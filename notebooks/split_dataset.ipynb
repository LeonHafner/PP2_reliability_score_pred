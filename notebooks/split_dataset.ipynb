{
 "cells": [
  {
   "cell_type": "code",
   "execution_count": 4,
   "id": "8311e5b9-4839-4f87-901a-5c816b0d9273",
   "metadata": {
    "tags": []
   },
   "outputs": [
    {
     "name": "stdout",
     "output_type": "stream",
     "text": [
      "9712\n"
     ]
    }
   ],
   "source": [
    "import os\n",
    "\n",
    "def split_list(input_list, seg_size):\n",
    "    \"\"\"\n",
    "    Splits a list into segments of specified size.\n",
    "    The last segment may be smaller if the list length isn't divisible by seg_size.\n",
    "    \n",
    "    :param input_list: List to be split.\n",
    "    :param seg_size: Size of each segment.\n",
    "    :return: List of segments.\n",
    "    \"\"\"\n",
    "    return [input_list[i:i + seg_size] for i in range(0, len(input_list), seg_size)]\n",
    "\n",
    "with open(\"../train_all_chains_one_model.csv\", \"r\") as rf:\n",
    "    proteins = [line for line in rf.read().split(\"\\n\") if len(line) > 0 ]\n",
    "    print(len(proteins))\n",
    "    splits = split_list(proteins, 500)\n",
    "    counter = 0\n",
    "    for split in splits:\n",
    "        with open(f\"../parts/train_{counter}.csv\", \"w\") as wf:\n",
    "            for line in split:\n",
    "                wf.write(line + \"\\n\")\n",
    "        counter += 1\n"
   ]
  }
 ],
 "metadata": {
  "kernelspec": {
   "display_name": "Python 3 (ipykernel)",
   "language": "python",
   "name": "python3"
  },
  "language_info": {
   "codemirror_mode": {
    "name": "ipython",
    "version": 3
   },
   "file_extension": ".py",
   "mimetype": "text/x-python",
   "name": "python",
   "nbconvert_exporter": "python",
   "pygments_lexer": "ipython3",
   "version": "3.11.7"
  }
 },
 "nbformat": 4,
 "nbformat_minor": 5
}
