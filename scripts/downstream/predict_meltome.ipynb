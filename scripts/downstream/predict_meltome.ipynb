{
 "cells": [
  {
   "cell_type": "code",
   "execution_count": 1,
   "metadata": {},
   "outputs": [],
   "source": [
    "import torch\n",
    "import torch.nn as nn\n",
    "import joblib\n",
    "import anndata as ad"
   ]
  },
  {
   "cell_type": "code",
   "execution_count": 2,
   "metadata": {},
   "outputs": [],
   "source": [
    "class RegressionMLP(nn.Module):\n",
    "    def __init__(self,):\n",
    "        super().__init__()\n",
    "        # Example architecture: 1280 -> 512 -> 256 -> 128 -> 1\n",
    "        self.model = nn.Sequential(\n",
    "            nn.Linear(1280, 512),\n",
    "            nn.LeakyReLU(),\n",
    "            nn.Dropout(0.3),\n",
    "\n",
    "            nn.Linear(512, 256),\n",
    "            nn.LeakyReLU(),\n",
    "            nn.Dropout(0.3),\n",
    "\n",
    "            nn.Linear(256, 128),\n",
    "            nn.LeakyReLU(),\n",
    "            nn.Dropout(0.3),\n",
    "\n",
    "            nn.Linear(128, 1)\n",
    "        )\n",
    "    \n",
    "    def forward(self, x):\n",
    "        return self.model(x)"
   ]
  },
  {
   "cell_type": "code",
   "execution_count": 3,
   "metadata": {},
   "outputs": [],
   "source": [
    "model_baseline_mean_path = '../../data/models/baselines/mean_pear_corr_min_max.joblib'\n",
    "model_baseline_linreg_path = '../../data/models/baselines/linreg_raw-pear_corr_min_max.joblib'\n",
    "model_mlp_path = '../../data/models/mlp/pear_corr_min_max_mlp.pt'\n",
    "\n",
    "anndata_path = '../../data/downstream/meltome.h5ad'"
   ]
  },
  {
   "cell_type": "code",
   "execution_count": 4,
   "metadata": {},
   "outputs": [
    {
     "data": {
      "text/plain": [
       "AnnData object with n_obs × n_vars = 3009 × 1280\n",
       "    obs: 'pred_temp', 'real_temp', 'temp_diff'"
      ]
     },
     "execution_count": 4,
     "metadata": {},
     "output_type": "execute_result"
    }
   ],
   "source": [
    "adata = ad.read_h5ad(anndata_path)\n",
    "adata"
   ]
  },
  {
   "cell_type": "code",
   "execution_count": 5,
   "metadata": {},
   "outputs": [],
   "source": [
    "mlp = torch.load(model_mlp_path, weights_only=False)\n",
    "mlp.eval()\n",
    "\n",
    "input_data = torch.from_numpy(adata.X)\n",
    "\n",
    "with torch.no_grad():\n",
    "    predictions = mlp(input_data)\n",
    "\n",
    "adata.obs[\"mlp_score\"] = predictions"
   ]
  },
  {
   "cell_type": "code",
   "execution_count": 6,
   "metadata": {},
   "outputs": [],
   "source": [
    "baseline_linreg = joblib.load(model_baseline_linreg_path)\n",
    "\n",
    "input_data = adata.X\n",
    "\n",
    "predictions = baseline_linreg.predict(input_data)\n",
    "\n",
    "adata.obs[\"baseline_linreg_score\"] = predictions"
   ]
  },
  {
   "cell_type": "code",
   "execution_count": 7,
   "metadata": {},
   "outputs": [],
   "source": [
    "baseline_mean = joblib.load(model_baseline_mean_path)\n",
    "\n",
    "input_data = adata.X\n",
    "\n",
    "predictions = baseline_mean.predict(input_data)\n",
    "\n",
    "adata.obs[\"baseline_mean_score\"] = predictions"
   ]
  },
  {
   "cell_type": "code",
   "execution_count": 8,
   "metadata": {},
   "outputs": [],
   "source": [
    "# Correlation between baseline mean not computable, as their is no variance in predictions"
   ]
  },
  {
   "cell_type": "code",
   "execution_count": 9,
   "metadata": {},
   "outputs": [
    {
     "name": "stdout",
     "output_type": "stream",
     "text": [
      "0.09348302403696893\n",
      "0.06931042373696485\n"
     ]
    }
   ],
   "source": [
    "print(adata.obs.mlp_score.corr(adata.obs.temp_diff))\n",
    "print(adata.obs.baseline_linreg_score.corr(adata.obs.temp_diff))"
   ]
  }
 ],
 "metadata": {
  "kernelspec": {
   "display_name": "prots",
   "language": "python",
   "name": "python3"
  },
  "language_info": {
   "codemirror_mode": {
    "name": "ipython",
    "version": 3
   },
   "file_extension": ".py",
   "mimetype": "text/x-python",
   "name": "python",
   "nbconvert_exporter": "python",
   "pygments_lexer": "ipython3",
   "version": "3.12.8"
  }
 },
 "nbformat": 4,
 "nbformat_minor": 2
}
