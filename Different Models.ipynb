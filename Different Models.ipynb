{
 "cells": [
  {
   "cell_type": "code",
   "execution_count": 1,
   "id": "f480aeba-7427-476c-88c7-5208ef114a4c",
   "metadata": {
    "collapsed": true,
    "jupyter": {
     "outputs_hidden": true
    },
    "tags": []
   },
   "outputs": [
    {
     "name": "stdout",
     "output_type": "stream",
     "text": [
      "Requirement already satisfied: tqdm in ./venv/lib/python3.12/site-packages (4.67.0)\n",
      "Requirement already satisfied: scipy in ./venv/lib/python3.12/site-packages (1.14.1)\n",
      "Requirement already satisfied: numpy in ./venv/lib/python3.12/site-packages (2.1.3)\n",
      "Requirement already satisfied: jax in ./venv/lib/python3.12/site-packages (0.4.35)\n",
      "Requirement already satisfied: h5py in ./venv/lib/python3.12/site-packages (3.12.1)\n",
      "Requirement already satisfied: jaxlib<=0.4.35,>=0.4.34 in ./venv/lib/python3.12/site-packages (from jax) (0.4.35)\n",
      "Requirement already satisfied: ml-dtypes>=0.4.0 in ./venv/lib/python3.12/site-packages (from jax) (0.5.0)\n",
      "Requirement already satisfied: opt-einsum in ./venv/lib/python3.12/site-packages (from jax) (3.4.0)\n"
     ]
    }
   ],
   "source": [
    "!pip install tqdm scipy numpy jax h5py"
   ]
  },
  {
   "cell_type": "markdown",
   "id": "839a0573-ace1-4e0d-aa6d-075d42ceda19",
   "metadata": {},
   "source": [
    "Code adapted from: https://github.com/zzhangzzhang/pLMs-interpretability/tree/main"
   ]
  },
  {
   "cell_type": "code",
   "execution_count": 2,
   "id": "e107018c-886c-432a-8d83-80923043f6b6",
   "metadata": {
    "tags": []
   },
   "outputs": [],
   "source": [
    "import time\n",
    "import os \n",
    "import torch \n",
    "import json \n",
    "from tqdm import tqdm \n",
    "import numpy as np\n",
    "from scipy.special import softmax\n",
    "from utils import *\n",
    "import random \n",
    "import matplotlib.pyplot as plt\n",
    "from itertools import islice\n",
    "from tqdm import tqdm\n",
    "import h5py\n",
    "device = torch.device('cuda:0' if torch.cuda.is_available() else 'cpu')\n",
    "device = torch.device('mps')"
   ]
  },
  {
   "cell_type": "code",
   "execution_count": 7,
   "id": "5c36c903-4bd3-4854-a953-0d35eec425f8",
   "metadata": {
    "tags": []
   },
   "outputs": [],
   "source": [
    "def do_model_run(model_name, sequence, pid):\n",
    "    # Create output directory if it doesn't exist\n",
    "    os.makedirs(\"out\", exist_ok=True)\n",
    "    \n",
    "    # LOAD MODEL AND PUT TO DEVICE\n",
    "    model, alphabet = torch.hub.load(\"facebookresearch/esm:main\", model_name)\n",
    "    \n",
    "    # Device selection logic\n",
    "    if torch.backends.mps.is_available():\n",
    "        device = torch.device(\"mps\")\n",
    "    elif torch.cuda.is_available():\n",
    "        device = torch.device(\"cuda:0\")\n",
    "    else:\n",
    "        device = torch.device(\"cpu\")\n",
    "    \n",
    "    model = model.to(device)\n",
    "    model = model.eval()\n",
    "    # model.args.token_dropout = False\n",
    "\n",
    "    # Record the start time\n",
    "    start_time = time.time()\n",
    "\n",
    "    cjm = get_categorical_jacobian(sequence, alphabet, model)\n",
    "    contact_map = get_contacts(cjm)\n",
    "\n",
    "    # Record the end time\n",
    "    end_time = time.time()\n",
    "\n",
    "    # Calculate the elapsed time\n",
    "    elapsed_time = end_time - start_time\n",
    "    print(f\"{pid}_{model_name} took {elapsed_time} seconds\")\n",
    "\n",
    "    plt.figure(figsize=(8, 8))\n",
    "    plt.imshow(contact_map, cmap=\"viridis\", interpolation=\"nearest\")\n",
    "    plt.colorbar(label=\"Contact Strength\")\n",
    "    plt.title(f\"{model_name} {pid} Contact Map Heatmap\", fontsize=14)\n",
    "    plt.xlabel(f\"Position: {sequence}\", fontsize=10)\n",
    "    plt.ylabel(f\"Position: {sequence}\", fontsize=10)\n",
    "    plt.tight_layout()  # Ensure the layout adjusts to fit labels\n",
    "    plt.savefig(f\"out/{pid}_{model_name}_contact_map.png\")\n",
    "\n",
    "    plt.clf()\n",
    "\n",
    "    # Save the result\n",
    "    with h5py.File(f'out/{pid}_{model_name}.h5', 'w') as f:\n",
    "        f.create_dataset(pid, data=contact_map)\n",
    "    print(f\"finished {pid}_{model_name}\")\n"
   ]
  },
  {
   "cell_type": "code",
   "execution_count": 8,
   "id": "111814eb-bd39-4329-b182-b496836cf405",
   "metadata": {
    "tags": []
   },
   "outputs": [
    {
     "name": "stdout",
     "output_type": "stream",
     "text": [
      "81\n"
     ]
    },
    {
     "name": "stderr",
     "output_type": "stream",
     "text": [
      "Using cache found in /Users/nicholas/.cache/torch/hub/facebookresearch_esm_main\n"
     ]
    },
    {
     "name": "stdout",
     "output_type": "stream",
     "text": [
      "1TX4-A_esm2_t33_650M_UR50D took 133.4346218109131 seconds\n",
      "finished 1TX4-A_esm2_t33_650M_UR50D\n"
     ]
    },
    {
     "data": {
      "text/plain": [
       "<Figure size 800x800 with 0 Axes>"
      ]
     },
     "metadata": {},
     "output_type": "display_data"
    }
   ],
   "source": [
    "# pid = \"3LAEA\"\n",
    "pid3 = \"1TX4-A\"\n",
    "sequence = \"SNAIQQSDGSMIIDGSANLRDLNKMFNWELDTEDARTFNGLILEHLEEIPDEGTICEIDGLLITILEVGDNMIKQAKVVKL\"\n",
    "# sequence2 = \"RPPLPNQQFGVSLQHLQEKNPEQEPIPIVLRETVAYLQAHALTTEGIFRRSANTQVVREVQQKYNMGLPVDFDQYNALHLPAVILKTFLRELPEPLLTFDLYPHVVGFLNIDESQRVPATLQVLQTLPEENYQVLRFLTAFLVQISAHSDQNKMTNTNLAVVFGPNLLWAKDAAITLKAINPINTFTKFLLDHQGELF\"\n",
    "# sequence3 = \"PLPNQQFGVSLQHLQEKNPEQEPIPIVLRETVAYLQAHALTTEGIFRRSANTQVVREVQQKYNMGLPVDFDQYNALHLPAVILKTFLRELPEPLLTFDLYPHVVGFLNIDESQRVPATLQVLQTLPEENYQVLRFLTAFLVQISAHSDQNKMTNTNLAVVFGPNLLWAKDAAITLKAINPINTFTKFLLDHQGELF\"\n",
    "print(len(sequence))\n",
    "# model_names = [\"esm2_t6_8M_UR50D\", \"esm2_t12_35M_UR50D\", \"esm2_t30_150M_UR50D\", \"esm2_t33_650M_UR50D\", \"esm2_t36_3B_UR50D\"]\n",
    "model_names = [\"esm2_t33_650M_UR50D\"]\n",
    "\n",
    "for model_name in model_names:\n",
    "    do_model_run(model_name, sequence, pid3)"
   ]
  }
 ],
 "metadata": {
  "kernelspec": {
   "display_name": "Python 3 (ipykernel)",
   "language": "python",
   "name": "python3"
  },
  "language_info": {
   "codemirror_mode": {
    "name": "ipython",
    "version": 3
   },
   "file_extension": ".py",
   "mimetype": "text/x-python",
   "name": "python",
   "nbconvert_exporter": "python",
   "pygments_lexer": "ipython3",
   "version": "3.12.4"
  }
 },
 "nbformat": 4,
 "nbformat_minor": 5
}
