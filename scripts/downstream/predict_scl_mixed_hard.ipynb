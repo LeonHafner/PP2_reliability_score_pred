{
 "cells": [
  {
   "cell_type": "code",
   "execution_count": 14,
   "metadata": {},
   "outputs": [],
   "source": [
    "import torch\n",
    "import torch.nn as nn\n",
    "import joblib\n",
    "import anndata as ad\n",
    "from scipy.stats import ranksums\n",
    "import seaborn as sns\n",
    "import matplotlib.pyplot as plt"
   ]
  },
  {
   "cell_type": "code",
   "execution_count": 2,
   "metadata": {},
   "outputs": [],
   "source": [
    "class RegressionMLP(nn.Module):\n",
    "    def __init__(self,):\n",
    "        super().__init__()\n",
    "        # Example architecture: 1280 -> 512 -> 256 -> 128 -> 1\n",
    "        self.model = nn.Sequential(\n",
    "            nn.Linear(1280, 512),\n",
    "            nn.LeakyReLU(),\n",
    "            nn.Dropout(0.3),\n",
    "\n",
    "            nn.Linear(512, 256),\n",
    "            nn.LeakyReLU(),\n",
    "            nn.Dropout(0.3),\n",
    "\n",
    "            nn.Linear(256, 128),\n",
    "            nn.LeakyReLU(),\n",
    "            nn.Dropout(0.3),\n",
    "\n",
    "            nn.Linear(128, 1)\n",
    "        )\n",
    "    \n",
    "    def forward(self, x):\n",
    "        return self.model(x)"
   ]
  },
  {
   "cell_type": "code",
   "execution_count": 3,
   "metadata": {},
   "outputs": [],
   "source": [
    "model_baseline_mean_path = '../../data/models/baselines/mean_pear_corr_min_max.joblib'\n",
    "model_baseline_linreg_path = '../../data/models/baselines/linreg_raw-pear_corr_min_max.joblib'\n",
    "model_mlp_path = '../../data/models/mlp/pear_corr_min_max_mlp.pt'\n",
    "\n",
    "anndata_path = '../../data/downstream/scl_mixed_hard.h5ad'"
   ]
  },
  {
   "cell_type": "code",
   "execution_count": 4,
   "metadata": {},
   "outputs": [
    {
     "data": {
      "text/plain": [
       "AnnData object with n_obs × n_vars = 331 × 1280\n",
       "    obs: 'pred_value', 'real_value', 'groups'"
      ]
     },
     "execution_count": 4,
     "metadata": {},
     "output_type": "execute_result"
    }
   ],
   "source": [
    "adata = ad.read_h5ad(anndata_path)\n",
    "adata"
   ]
  },
  {
   "cell_type": "code",
   "execution_count": 5,
   "metadata": {},
   "outputs": [],
   "source": [
    "mlp = torch.load(model_mlp_path, weights_only=False)\n",
    "mlp.eval()\n",
    "\n",
    "input_data = torch.from_numpy(adata.X)\n",
    "\n",
    "with torch.no_grad():\n",
    "    predictions = mlp(input_data)\n",
    "\n",
    "adata.obs[\"mlp_score\"] = predictions"
   ]
  },
  {
   "cell_type": "code",
   "execution_count": 6,
   "metadata": {},
   "outputs": [],
   "source": [
    "baseline_linreg = joblib.load(model_baseline_linreg_path)\n",
    "\n",
    "input_data = adata.X\n",
    "\n",
    "predictions = baseline_linreg.predict(input_data)\n",
    "\n",
    "adata.obs[\"baseline_linreg_score\"] = predictions"
   ]
  },
  {
   "cell_type": "code",
   "execution_count": 7,
   "metadata": {},
   "outputs": [],
   "source": [
    "baseline_mean = joblib.load(model_baseline_mean_path)\n",
    "\n",
    "input_data = adata.X\n",
    "\n",
    "predictions = baseline_mean.predict(input_data)\n",
    "\n",
    "adata.obs[\"baseline_mean_score\"] = predictions"
   ]
  },
  {
   "cell_type": "code",
   "execution_count": 8,
   "metadata": {},
   "outputs": [],
   "source": [
    "# Correlation between baseline mean not computable, as their is no variance in predictions"
   ]
  },
  {
   "cell_type": "code",
   "execution_count": 9,
   "metadata": {},
   "outputs": [
    {
     "data": {
      "text/html": [
       "<div>\n",
       "<style scoped>\n",
       "    .dataframe tbody tr th:only-of-type {\n",
       "        vertical-align: middle;\n",
       "    }\n",
       "\n",
       "    .dataframe tbody tr th {\n",
       "        vertical-align: top;\n",
       "    }\n",
       "\n",
       "    .dataframe thead th {\n",
       "        text-align: right;\n",
       "    }\n",
       "</style>\n",
       "<table border=\"1\" class=\"dataframe\">\n",
       "  <thead>\n",
       "    <tr style=\"text-align: right;\">\n",
       "      <th></th>\n",
       "      <th>pred_value</th>\n",
       "      <th>real_value</th>\n",
       "      <th>groups</th>\n",
       "      <th>mlp_score</th>\n",
       "      <th>baseline_linreg_score</th>\n",
       "      <th>baseline_mean_score</th>\n",
       "    </tr>\n",
       "    <tr>\n",
       "      <th>seq_id</th>\n",
       "      <th></th>\n",
       "      <th></th>\n",
       "      <th></th>\n",
       "      <th></th>\n",
       "      <th></th>\n",
       "      <th></th>\n",
       "    </tr>\n",
       "  </thead>\n",
       "  <tbody>\n",
       "    <tr>\n",
       "      <th>Sequence11181</th>\n",
       "      <td>Endoplasmic_reticulum</td>\n",
       "      <td>Endoplasmic_reticulum</td>\n",
       "      <td>True</td>\n",
       "      <td>0.562837</td>\n",
       "      <td>0.661524</td>\n",
       "      <td>0.605534</td>\n",
       "    </tr>\n",
       "    <tr>\n",
       "      <th>Sequence11182</th>\n",
       "      <td>Cell_membrane</td>\n",
       "      <td>Extracellular</td>\n",
       "      <td>False</td>\n",
       "      <td>0.563066</td>\n",
       "      <td>0.532199</td>\n",
       "      <td>0.605534</td>\n",
       "    </tr>\n",
       "    <tr>\n",
       "      <th>Sequence11183</th>\n",
       "      <td>Cytoplasm</td>\n",
       "      <td>Cytoplasm</td>\n",
       "      <td>True</td>\n",
       "      <td>0.557363</td>\n",
       "      <td>0.570492</td>\n",
       "      <td>0.605534</td>\n",
       "    </tr>\n",
       "    <tr>\n",
       "      <th>Sequence11184</th>\n",
       "      <td>Cytoplasm</td>\n",
       "      <td>Cytoplasm</td>\n",
       "      <td>True</td>\n",
       "      <td>0.602049</td>\n",
       "      <td>0.611836</td>\n",
       "      <td>0.605534</td>\n",
       "    </tr>\n",
       "    <tr>\n",
       "      <th>Sequence11185</th>\n",
       "      <td>Nucleus</td>\n",
       "      <td>Nucleus</td>\n",
       "      <td>True</td>\n",
       "      <td>0.563487</td>\n",
       "      <td>0.621545</td>\n",
       "      <td>0.605534</td>\n",
       "    </tr>\n",
       "    <tr>\n",
       "      <th>...</th>\n",
       "      <td>...</td>\n",
       "      <td>...</td>\n",
       "      <td>...</td>\n",
       "      <td>...</td>\n",
       "      <td>...</td>\n",
       "      <td>...</td>\n",
       "    </tr>\n",
       "    <tr>\n",
       "      <th>Sequence11512</th>\n",
       "      <td>Nucleus</td>\n",
       "      <td>Nucleus</td>\n",
       "      <td>True</td>\n",
       "      <td>0.627954</td>\n",
       "      <td>0.640472</td>\n",
       "      <td>0.605534</td>\n",
       "    </tr>\n",
       "    <tr>\n",
       "      <th>Sequence11513</th>\n",
       "      <td>Nucleus</td>\n",
       "      <td>Nucleus</td>\n",
       "      <td>True</td>\n",
       "      <td>0.606802</td>\n",
       "      <td>0.587197</td>\n",
       "      <td>0.605534</td>\n",
       "    </tr>\n",
       "    <tr>\n",
       "      <th>Sequence11514</th>\n",
       "      <td>Extracellular</td>\n",
       "      <td>Cytoplasm</td>\n",
       "      <td>False</td>\n",
       "      <td>0.698001</td>\n",
       "      <td>0.711198</td>\n",
       "      <td>0.605534</td>\n",
       "    </tr>\n",
       "    <tr>\n",
       "      <th>Sequence11515</th>\n",
       "      <td>Nucleus</td>\n",
       "      <td>Cytoplasm</td>\n",
       "      <td>False</td>\n",
       "      <td>0.621267</td>\n",
       "      <td>0.621411</td>\n",
       "      <td>0.605534</td>\n",
       "    </tr>\n",
       "    <tr>\n",
       "      <th>Sequence11516</th>\n",
       "      <td>Extracellular</td>\n",
       "      <td>Lysosome/Vacuole</td>\n",
       "      <td>False</td>\n",
       "      <td>0.578760</td>\n",
       "      <td>0.599884</td>\n",
       "      <td>0.605534</td>\n",
       "    </tr>\n",
       "  </tbody>\n",
       "</table>\n",
       "<p>331 rows × 6 columns</p>\n",
       "</div>"
      ],
      "text/plain": [
       "                          pred_value             real_value  groups  \\\n",
       "seq_id                                                                \n",
       "Sequence11181  Endoplasmic_reticulum  Endoplasmic_reticulum    True   \n",
       "Sequence11182          Cell_membrane          Extracellular   False   \n",
       "Sequence11183              Cytoplasm              Cytoplasm    True   \n",
       "Sequence11184              Cytoplasm              Cytoplasm    True   \n",
       "Sequence11185                Nucleus                Nucleus    True   \n",
       "...                              ...                    ...     ...   \n",
       "Sequence11512                Nucleus                Nucleus    True   \n",
       "Sequence11513                Nucleus                Nucleus    True   \n",
       "Sequence11514          Extracellular              Cytoplasm   False   \n",
       "Sequence11515                Nucleus              Cytoplasm   False   \n",
       "Sequence11516          Extracellular       Lysosome/Vacuole   False   \n",
       "\n",
       "               mlp_score  baseline_linreg_score  baseline_mean_score  \n",
       "seq_id                                                                \n",
       "Sequence11181   0.562837               0.661524             0.605534  \n",
       "Sequence11182   0.563066               0.532199             0.605534  \n",
       "Sequence11183   0.557363               0.570492             0.605534  \n",
       "Sequence11184   0.602049               0.611836             0.605534  \n",
       "Sequence11185   0.563487               0.621545             0.605534  \n",
       "...                  ...                    ...                  ...  \n",
       "Sequence11512   0.627954               0.640472             0.605534  \n",
       "Sequence11513   0.606802               0.587197             0.605534  \n",
       "Sequence11514   0.698001               0.711198             0.605534  \n",
       "Sequence11515   0.621267               0.621411             0.605534  \n",
       "Sequence11516   0.578760               0.599884             0.605534  \n",
       "\n",
       "[331 rows x 6 columns]"
      ]
     },
     "execution_count": 9,
     "metadata": {},
     "output_type": "execute_result"
    }
   ],
   "source": [
    "adata.obs"
   ]
  },
  {
   "cell_type": "code",
   "execution_count": 10,
   "metadata": {},
   "outputs": [
    {
     "name": "stdout",
     "output_type": "stream",
     "text": [
      "RanksumsResult(statistic=-2.6534580928113654, pvalue=0.00796716630646722)\n",
      "RanksumsResult(statistic=-1.3131849860118385, pvalue=0.1891206219092444)\n"
     ]
    }
   ],
   "source": [
    "print(ranksums(adata.obs.mlp_score[adata.obs.groups], adata.obs.mlp_score[~adata.obs.groups]))\n",
    "print(ranksums(adata.obs.baseline_linreg_score[adata.obs.groups], adata.obs.baseline_linreg_score[~adata.obs.groups]))"
   ]
  },
  {
   "cell_type": "code",
   "execution_count": 17,
   "metadata": {},
   "outputs": [
    {
     "data": {
      "text/plain": [
       "Text(0, 0.5, 'Predicted Reliability Score')"
      ]
     },
     "execution_count": 17,
     "metadata": {},
     "output_type": "execute_result"
    },
    {
     "data": {
      "image/png": "[encoded data removed]",
      "text/plain": [
       "<Figure size 640x480 with 1 Axes>"
      ]
     },
     "metadata": {},
     "output_type": "display_data"
    }
   ],
   "source": [
    "sns.boxplot(x=\"groups\", y=\"mlp_score\", data=adata.obs)\n",
    "plt.xlabel(\"Correctly predicted\")\n",
    "plt.ylabel(\"Predicted Reliability Score\")"
   ]
  }
 ],
 "metadata": {
  "kernelspec": {
   "display_name": "prots",
   "language": "python",
   "name": "python3"
  },
  "language_info": {
   "codemirror_mode": {
    "name": "ipython",
    "version": 3
   },
   "file_extension": ".py",
   "mimetype": "text/x-python",
   "name": "python",
   "nbconvert_exporter": "python",
   "pygments_lexer": "ipython3",
   "version": "3.12.8"
  }
 },
 "nbformat": 4,
 "nbformat_minor": 2
}
