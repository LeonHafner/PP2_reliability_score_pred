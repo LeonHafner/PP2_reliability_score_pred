{
 "cells": [
  {
   "cell_type": "code",
   "execution_count": 1,
   "metadata": {},
   "outputs": [],
   "source": [
    "import scanpy as sc\n",
    "import pandas as pd\n",
    "from sklearn.dummy import DummyRegressor\n",
    "from sklearn.metrics import mean_squared_error, r2_score, root_mean_squared_error"
   ]
  },
  {
   "cell_type": "code",
   "execution_count": 2,
   "metadata": {},
   "outputs": [
    {
     "name": "stdout",
     "output_type": "stream",
     "text": [
      "Validation pear_corr_min_max MSE: 0.0056\n",
      "Validation pear_corr_min_max RMSE: 0.0746\n",
      "Validation pear_corr_min_max R2: -0.0003\n",
      "\n",
      "Validation pear_corr_sigmoid MSE: 0.0060\n",
      "Validation pear_corr_sigmoid RMSE: 0.0775\n",
      "Validation pear_corr_sigmoid R2: -0.0001\n",
      "\n",
      "Validation cos_sim_min_max MSE: 0.0089\n",
      "Validation cos_sim_min_max RMSE: 0.0945\n",
      "Validation cos_sim_min_max R2: -0.0002\n",
      "\n",
      "Validation cos_sim_sigmoid MSE: 0.0092\n",
      "Validation cos_sim_sigmoid RMSE: 0.0957\n",
      "Validation cos_sim_sigmoid R2: -0.0000\n",
      "\n"
     ]
    }
   ],
   "source": [
    "target_variables_short = {\n",
    "    \"pearson_correlation_min_max\": \"pear_corr_min_max\",\n",
    "    \"pearson_correlation_sigmoid\": \"pear_corr_sigmoid\",\n",
    "    \"cosine_similarity_min_max\": \"cos_sim_min_max\",\n",
    "    \"cosine_similarity_sigmoid\": \"cos_sim_sigmoid\"\n",
    "}\n",
    "\n",
    "adata = sc.read(\"train_val_adata.h5ad\")\n",
    "\n",
    "adata_train, adata_val = adata[adata.obs[\"split\"] == \"train\"], adata[adata.obs[\"split\"] == \"validation\"]\n",
    "\n",
    "predictions = {}\n",
    "for target_var in target_variables_short.keys():\n",
    "    target_var_short = target_variables_short[target_var]\n",
    "    X_train, y_train = adata_train.X, adata_train.obs[target_var].values\n",
    "    X_val, y_val = adata_val.X, adata_val.obs[target_var].values\n",
    "\n",
    "    # Initialize and train the DummyRegressor\n",
    "    model = DummyRegressor(strategy=\"mean\")\n",
    "    model.fit(X_train, y_train)\n",
    "\n",
    "    y_val_pred = model.predict(X_val)\n",
    "\n",
    "    # Store predictions for bootstrapping\n",
    "    predictions[f\"{target_var_short}-true\"] = y_val\n",
    "    predictions[f\"{target_var_short}-pred\"] = y_val_pred\n",
    "\n",
    "    mse = mean_squared_error(y_val, y_val_pred)\n",
    "    rmse = root_mean_squared_error(y_val, y_val_pred)\n",
    "    r2 = r2_score(y_val, y_val_pred)\n",
    "\n",
    "    # Print results\n",
    "    print(f\"Validation {target_var_short} MSE: {mse:.4f}\")\n",
    "    print(f\"Validation {target_var_short} RMSE: {rmse:.4f}\")\n",
    "    print(f\"Validation {target_var_short} R2: {r2:.4f}\\n\")"
   ]
  },
  {
   "cell_type": "code",
   "execution_count": 3,
   "metadata": {},
   "outputs": [],
   "source": [
    "pd.DataFrame(predictions).to_csv(\"baseline_mean.csv\", index=False)"
   ]
  }
 ],
 "metadata": {
  "kernelspec": {
   "display_name": "prots",
   "language": "python",
   "name": "python3"
  },
  "language_info": {
   "codemirror_mode": {
    "name": "ipython",
    "version": 3
   },
   "file_extension": ".py",
   "mimetype": "text/x-python",
   "name": "python",
   "nbconvert_exporter": "python",
   "pygments_lexer": "ipython3",
   "version": "3.12.8"
  }
 },
 "nbformat": 4,
 "nbformat_minor": 2
}
